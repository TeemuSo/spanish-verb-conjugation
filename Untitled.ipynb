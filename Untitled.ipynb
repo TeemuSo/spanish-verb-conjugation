{
 "cells": [
  {
   "cell_type": "markdown",
   "metadata": {},
   "source": [
    "# Amazing spanish tool"
   ]
  },
  {
   "cell_type": "code",
   "execution_count": 1,
   "metadata": {},
   "outputs": [],
   "source": [
    "import requests\n",
    "from bs4 import BeautifulSoup\n",
    "import numpy as np\n",
    "import pandas as pd\n",
    "\n",
    "URL = lambda page: f\"https://lingolex.com/verbs/popular_verbs.php?page={page}letra=h\""
   ]
  },
  {
   "cell_type": "markdown",
   "metadata": {},
   "source": [
    "Scrap verbs and their importances"
   ]
  },
  {
   "cell_type": "code",
   "execution_count": 360,
   "metadata": {
    "scrolled": true
   },
   "outputs": [
    {
     "name": "stdout",
     "output_type": "stream",
     "text": [
      "Page: 0 done.\n",
      "Page: 1 done.\n",
      "Page: 2 done.\n",
      "Page: 3 done.\n",
      "Page: 4 done.\n",
      "Page: 5 done.\n",
      "Page: 6 done.\n",
      "Page: 7 done.\n",
      "Page: 8 done.\n",
      "Page: 9 done.\n",
      "Page: 10 done.\n",
      "Page: 11 done.\n",
      "Page: 12 done.\n",
      "Page: 13 done.\n",
      "Page: 14 done.\n",
      "Page: 15 done.\n",
      "Page: 16 done.\n",
      "Page: 17 done.\n",
      "Page: 18 done.\n",
      "Page: 19 done.\n",
      "Page: 20 done.\n",
      "Page: 21 done.\n",
      "Page: 22 done.\n",
      "Page: 23 done.\n",
      "Page: 24 done.\n",
      "Page: 25 done.\n",
      "Page: 26 done.\n",
      "Page: 27 done.\n",
      "Page: 28 done.\n",
      "Page: 29 done.\n",
      "Page: 30 done.\n",
      "Page: 31 done.\n",
      "Page: 32 done.\n",
      "Page: 33 done.\n",
      "Page: 34 done.\n",
      "Page: 35 done.\n",
      "Page: 36 done.\n",
      "Page: 37 done.\n",
      "Page: 38 done.\n",
      "Page: 39 done.\n",
      "Page: 40 done.\n",
      "Page: 41 done.\n",
      "Page: 42 done.\n",
      "Page: 43 done.\n",
      "Page: 44 done.\n",
      "Page: 45 done.\n",
      "Page: 46 done.\n",
      "Page: 47 done.\n",
      "Page: 48 done.\n",
      "Page: 49 done.\n",
      "Page: 50 done.\n",
      "Page: 51 done.\n",
      "Page: 52 done.\n",
      "Page: 53 done.\n",
      "Page: 54 done.\n",
      "Page: 55 done.\n",
      "Page: 56 done.\n",
      "Page: 57 done.\n",
      "Page: 58 done.\n",
      "Page: 59 done.\n",
      "Page: 60 done.\n",
      "Page: 61 done.\n",
      "Page: 62 done.\n",
      "Page: 63 done.\n"
     ]
    }
   ],
   "source": [
    "import time\n",
    "pages = np.arange(64)\n",
    "\n",
    "verbs = []\n",
    "counts = []\n",
    "\n",
    "for page_num in pages:\n",
    "    page = requests.get(URL(page_num))\n",
    "    soup = BeautifulSoup(page.content, \"html.parser\")\n",
    "    rows = soup.find_all(\"div\", class_=\"row\")\n",
    "    rows = rows[3:]\n",
    "    \n",
    "    for row in rows:\n",
    "        children = row.findChildren(class_='col-sm-3 panel-heading')\n",
    "        count = int(children[0].text.replace(',', ''))\n",
    "        verb = children[1].text\n",
    "\n",
    "        counts.append(count)\n",
    "        verbs.append(verb)\n",
    "    \n",
    "    time.sleep(0.1)\n",
    "    print(f\"Page: {page_num} done.\")"
   ]
  },
  {
   "cell_type": "markdown",
   "metadata": {},
   "source": [
    "Save"
   ]
  },
  {
   "cell_type": "code",
   "execution_count": 361,
   "metadata": {},
   "outputs": [],
   "source": [
    "df = pd.DataFrame(np.array([verbs, counts]).T, columns=['verb', 'count'])\n",
    "df.to_csv('verb-count.csv', index=False)"
   ]
  },
  {
   "cell_type": "markdown",
   "metadata": {},
   "source": [
    "# Scrape all conjugations :D"
   ]
  },
  {
   "cell_type": "code",
   "execution_count": 2,
   "metadata": {},
   "outputs": [],
   "source": [
    "df = pd.read_csv('verb-count.csv')"
   ]
  },
  {
   "cell_type": "code",
   "execution_count": 4,
   "metadata": {},
   "outputs": [],
   "source": [
    "from itertools import islice\n",
    "import requests\n",
    "import pandas as pd \n",
    "\n",
    "URL_CONJU = lambda verb: f'https://conjugator.reverso.net/conjugation-spanish-verb-{verb}.html'\n",
    "URL_WF = lambda verb: f\"https://www.wordreference.com/conj/esverbs.aspx?v={verb}\"\n",
    "\n",
    "def get_cols(tables):\n",
    "    cols = []\n",
    "    for table in tables:\n",
    "        children = table.findChildren(['th'])\n",
    "        title = children[0].text.split('ⓘ')[0]\n",
    "        for child in children[1:]:\n",
    "            cols.append(f\"{title} {child.text}\")\n",
    "    \n",
    "    _, idx = np.unique(cols, return_index=True)\n",
    "    cols = np.array(cols)[np.sort(idx)]\n",
    "    return cols\n",
    "\n",
    "def scrape_website(url):\n",
    "    page = requests.get(url)\n",
    "    soup = BeautifulSoup(page.content, \"html.parser\")\n",
    "    \n",
    "    groups = soup.find_all(\"div\", class_=\"aa\")\n",
    "    tables = [g.findChildren(class_='neoConj active') for g in groups]\n",
    "    tables = [t for g in tables for t in g]\n",
    "    \n",
    "    cols = get_cols(tables)\n",
    "    \n",
    "    conjs = []\n",
    "    for el in tables:\n",
    "        conj = el.findChildren('td')\n",
    "        conj = [c.text for c in conj]\n",
    "        conjs.append(conj)\n",
    "    \n",
    "    conjs = [d for c in conjs for d in c]\n",
    "    d = pd.DataFrame(conjs).T\n",
    "    d.columns = cols\n",
    "    return d"
   ]
  },
  {
   "cell_type": "markdown",
   "metadata": {},
   "source": [
    "Initialize df"
   ]
  },
  {
   "cell_type": "code",
   "execution_count": null,
   "metadata": {},
   "outputs": [],
   "source": [
    "tmp_df = df.copy()\n",
    "\n",
    "row = df.iloc[0, :]\n",
    "verb = row['verb']\n",
    "d = scrape_website(URL_WF(verb))\n",
    "tmp_df.loc[:, d.columns.values] = 0\n",
    "tmp_df.loc[0, tmp_df.columns.isin(d.columns.values)] = d.values.flatten()\n",
    "    "
   ]
  },
  {
   "cell_type": "markdown",
   "metadata": {},
   "source": [
    "Fill the conjugations"
   ]
  },
  {
   "cell_type": "code",
   "execution_count": 55,
   "metadata": {},
   "outputs": [],
   "source": [
    "import time\n",
    "    \n",
    "for i, row in islice(df.iterrows(), 1240, None):\n",
    "    verb = row['verb']\n",
    "    d = scrape_website(URL_WF(verb))\n",
    "    tmp_df.loc[i, tmp_df.columns.isin(d.columns.values)] = d.values.flatten()\n",
    "    \n",
    "    time.sleep(0.1)\n",
    "    print(f\"row: {i}\")"
   ]
  },
  {
   "cell_type": "markdown",
   "metadata": {},
   "source": [
    "Add probabilities for choosing"
   ]
  },
  {
   "cell_type": "code",
   "execution_count": 62,
   "metadata": {},
   "outputs": [],
   "source": [
    "tmp_df.loc[:, 'prob'] = tmp_df['count'] / tmp_df['count'].sum()"
   ]
  },
  {
   "cell_type": "markdown",
   "metadata": {},
   "source": [
    "Save"
   ]
  },
  {
   "cell_type": "code",
   "execution_count": 67,
   "metadata": {},
   "outputs": [],
   "source": [
    "tmp_df.to_csv('verbs.csv', index=False)"
   ]
  },
  {
   "cell_type": "markdown",
   "metadata": {},
   "source": [
    "# Run inference on data"
   ]
  },
  {
   "cell_type": "code",
   "execution_count": 1,
   "metadata": {},
   "outputs": [],
   "source": [
    "import pandas as pd\n",
    "import numpy as np\n",
    "df = pd.read_csv('verbs.csv')"
   ]
  },
  {
   "cell_type": "code",
   "execution_count": 111,
   "metadata": {},
   "outputs": [
    {
     "data": {
      "text/plain": [
       "array(['acariciar'], dtype=object)"
      ]
     },
     "execution_count": 111,
     "metadata": {},
     "output_type": "execute_result"
    }
   ],
   "source": [
    "from numpy.random import choice\n",
    "\n",
    "verb = \n",
    "verb\n"
   ]
  },
  {
   "cell_type": "code",
   "execution_count": 2,
   "metadata": {},
   "outputs": [],
   "source": [
    "categories = np.array(['presente', 'imperfecto', \n",
    "                       'pretérito', 'futuro', 'condicional'])"
   ]
  },
  {
   "cell_type": "code",
   "execution_count": 36,
   "metadata": {},
   "outputs": [],
   "source": [
    "from ipywidgets import widgets\n",
    "from IPython.display import display, Markdown, clear_output\n",
    "from ipywidgets import HTML"
   ]
  },
  {
   "cell_type": "code",
   "execution_count": 191,
   "metadata": {},
   "outputs": [
    {
     "data": {
      "application/vnd.jupyter.widget-view+json": {
       "model_id": "7814c7b3516647b8b358bf85ef659c5a",
       "version_major": 2,
       "version_minor": 0
      },
      "text/plain": [
       "VBox(children=(HTML(value='<h1><center><u>Spanish conjugation tool</u></center></h1><h3><center>Similarity sea…"
      ]
     },
     "metadata": {},
     "output_type": "display_data"
    }
   ],
   "source": [
    "class SpanishApp:\n",
    "    \n",
    "    def __init__(self):\n",
    "        self._initialize_attributes()\n",
    "        self._create_widgets()\n",
    "        \n",
    "        self.set_question_visibility('hidden')\n",
    "        self.set_answer_visibility('hidden')\n",
    "        \n",
    "        self.search_btn.on_click(self.search_new_verb)\n",
    "        self.check_answer_btn.on_click(self.check_answer)\n",
    "        \n",
    "    ###\n",
    "    # Constructors\n",
    "    ###\n",
    "    def _initialize_attributes(self):\n",
    "        self.conjugated_verb = None\n",
    "        self.infinitive = None\n",
    "        self.conjugated_category = None\n",
    "        self.include_vos = False\n",
    "    \n",
    "    def _create_widgets(self):\n",
    "        self.html_title = HTML(\"\"\"<h1><center><u>Spanish conjugation tool</u></center></h1><h3><center>Similarity search engine</center></h3>\"\"\")\n",
    "        self.hline = HTML(\"<hline>\")\n",
    "        self.html2 = HTML(\"\"\"<br><h3><center>Choose what conjugations to include</center></h3>\"\"\")\n",
    "        self.base_word_html = HTML(f\"<p>{self.infinitive}, {self.conjugated_category}\")\n",
    "        self.answer_html = HTML(f\"{self.conjugated_verb}\")\n",
    "        self.answer_indicator = widgets.HTML()\n",
    "        \n",
    "        self.cat_selection = widgets.SelectMultiple(options=categories)\n",
    "        self.answer_input = widgets.Text(description='Answer:')\n",
    "        \n",
    "        self.search_btn = widgets.Button(description='Search verb')\n",
    "        self.check_answer_btn = widgets.Button(description='Check answer')\n",
    "        \n",
    "        self.verb_output = widgets.Output()\n",
    "        self.title_output = widgets.Output()\n",
    "        \n",
    "        vbox_layout = widgets.Layout(display='flex',\n",
    "                               flex_flow='column',\n",
    "                               align_items='center',\n",
    "                               width='100%')\n",
    "        \n",
    "        check_answer_box = widgets.HBox(children=[self.answer_input, \n",
    "                                                  self.answer_indicator])\n",
    "        check_answer_btn_box = widgets.HBox(children=[self.search_btn, \n",
    "                                                      self.check_answer_btn])\n",
    "        \n",
    "        self.box = widgets.VBox(children=\n",
    "                                [\n",
    "                                    self.html_title, self.hline, self.html2, self.hline,\n",
    "                                    self.cat_selection, check_answer_btn_box,\n",
    "                                    self.base_word_html, check_answer_box,\n",
    "                                    self.answer_html,\n",
    "                                ],\n",
    "                               layout=vbox_layout)\n",
    "\n",
    "\n",
    "    ###\n",
    "    # Updates\n",
    "    ###\n",
    "    def update_answer(self, value):\n",
    "        self.conjugated_verb = value\n",
    "        self._update_answer_html()\n",
    "        \n",
    "    def update_infinitive(self, value):\n",
    "        self.infinitive = value\n",
    "        self._update_baseword()\n",
    "        \n",
    "    def update_conjugated_category(self, value):\n",
    "        self.conjugated_category = value\n",
    "        self._update_baseword()\n",
    "        \n",
    "    def _update_baseword(self):\n",
    "        self.base_word_html.value = f\"<p><b>{self.infinitive}</b> (<i>{self.conjugated_category}</i>)\"\n",
    "    \n",
    "    ###\n",
    "    # Setters\n",
    "    ###\n",
    "    def set_question_visibility(self, visibility):\n",
    "        self.base_word_html.layout.visibility = visibility\n",
    "        self.check_answer_btn.layout.visibility = visibility\n",
    "        self.answer_input.layout.visibility = visibility\n",
    "        self.answer_input.value = \"\"\n",
    "        self.answer_indicator.value = ''\n",
    "    \n",
    "    def set_answer_visibility(self, visibility):\n",
    "        self.answer_html.layout.visibility = visibility\n",
    "        self.answer_indicator.visibility = visibility\n",
    "        \n",
    "    def _update_answer_html(self):\n",
    "        self.answer_html.value = f\"<b>{self.conjugated_verb}</b>\"\n",
    "        \n",
    "        \n",
    "    ###\n",
    "    # Eventlisteners\n",
    "    ###\n",
    "    def search_new_verb(self, b):\n",
    "        self.set_answer_visibility('hidden')\n",
    "        \n",
    "        verb = np.random.choice(df.verb, 1, p=df.prob)\n",
    "        row_chosen = df.verb.isin(verb)\n",
    "        # Take all true values possible\n",
    "        categories_chosen = np.sum([df.columns.str.contains(x) for x in self.cat_selection.value], \n",
    "                                   axis=0, dtype=bool)\n",
    "        \n",
    "        cat_str_chosen = df.columns[categories_chosen].values\n",
    "\n",
    "        # Remove vosotros\n",
    "        if not include_vos:\n",
    "            cat_str_chosen = [x for x in cat_str_chosen if 'vos' not in x]\n",
    "        \n",
    "        # Choose random verb to be displayed\n",
    "        cat_to_conj = np.random.choice(cat_str_chosen, 1)[0]\n",
    "\n",
    "        conjugated_verb = df.loc[row_chosen, df.columns.isin([cat_to_conj])].values[0]\n",
    "        \n",
    "        self.update_answer(str(conjugated_verb[0]))\n",
    "        self.update_infinitive(str(verb[0]))\n",
    "        self.update_conjugated_category(cat_to_conj)\n",
    "        self.set_question_visibility('visible')\n",
    "    \n",
    "\n",
    "    def check_answer(self, b):\n",
    "        answer = self.answer_input.value\n",
    "        if answer == self.conjugated_verb:\n",
    "            self.answer_indicator.value = 'Correct'\n",
    "            \n",
    "        else:\n",
    "            self.answer_indicator.value = 'Incorrect'\n",
    "        self.set_answer_visibility('visible')\n",
    "        \n",
    "app = SpanishApp()\n",
    "display(app.box)"
   ]
  }
 ],
 "metadata": {
  "kernelspec": {
   "display_name": "Python 3",
   "language": "python",
   "name": "python3"
  },
  "language_info": {
   "codemirror_mode": {
    "name": "ipython",
    "version": 3
   },
   "file_extension": ".py",
   "mimetype": "text/x-python",
   "name": "python",
   "nbconvert_exporter": "python",
   "pygments_lexer": "ipython3",
   "version": "3.8.5"
  }
 },
 "nbformat": 4,
 "nbformat_minor": 4
}
